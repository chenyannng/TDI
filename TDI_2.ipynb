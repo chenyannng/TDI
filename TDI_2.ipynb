{
 "cells": [
  {
   "cell_type": "markdown",
   "metadata": {},
   "source": [
    "Below I plot the new confirmed cases against total confirmed cases over time to show where we are at the exponential increase. To overcome noise brought by daily fluctuations of case increase, we use the sum of new cases over a week.\n",
    "Concepts inspired by https://aatishb.com/covidtrends/ \n",
    "<br>Pre-assumption: the curve of total confirmed cases over time in most countries is exponential. Therefore if we plot new confirmed over total confirmed cases overtime under log scale, we would see it climbing a straight line, until the exponential increase breaks. This 'dropping from exponential line' situation happens to a lot of countries such as China and Germany, indicating a control of disease spread.\n"
   ]
  },
  {
   "cell_type": "code",
   "execution_count": 1,
   "metadata": {},
   "outputs": [
    {
     "output_type": "execute_result",
     "data": {
      "text/plain": "<IPython.core.display.HTML object>",
      "text/html": "<img src=\"./image/trend.gif\">"
     },
     "metadata": {},
     "execution_count": 1
    }
   ],
   "source": [
    "from IPython.display import HTML\n",
    "HTML('<img src=\"./image/trend.gif\">')"
   ]
  }
 ],
 "metadata": {
  "language_info": {
   "codemirror_mode": {
    "name": "ipython",
    "version": 3
   },
   "file_extension": ".py",
   "mimetype": "text/x-python",
   "name": "python",
   "nbconvert_exporter": "python",
   "pygments_lexer": "ipython3",
   "version": "3.7.7-final"
  },
  "orig_nbformat": 2,
  "kernelspec": {
   "name": "python36864bitbasecondac24bf7f30f9e498aa63376ee4795d606",
   "display_name": "Python 3.6.8 64-bit ('base': conda)"
  }
 },
 "nbformat": 4,
 "nbformat_minor": 2
}